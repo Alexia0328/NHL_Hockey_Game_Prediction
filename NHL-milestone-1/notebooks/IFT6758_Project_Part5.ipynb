{
 "cells": [
  {
   "cell_type": "code",
   "execution_count": 1,
   "id": "ebf95121-5388-40c6-ba04-f30a096382d5",
   "metadata": {},
   "outputs": [],
   "source": [
    "## Question 5 \n",
    "## Author: Pulkit Madan\n",
    "import numpy as np\n",
    "import pandas as pd \n",
    "import matplotlib.pyplot as plt \n",
    "import plotly as ply\n",
    "%matplotlib inline"
   ]
  },
  {
   "cell_type": "code",
   "execution_count": 9,
   "id": "ca9cdb43-3a10-4e22-94b4-5e2591e2655a",
   "metadata": {},
   "outputs": [],
   "source": [
    "data = pd.read_csv('./ift6758/data/alldata.csv') "
   ]
  },
  {
   "cell_type": "code",
   "execution_count": 8,
   "id": "7055fa27-acce-417f-a584-8722d65f8802",
   "metadata": {},
   "outputs": [
    {
     "data": {
      "text/html": [
       "<div>\n",
       "<style scoped>\n",
       "    .dataframe tbody tr th:only-of-type {\n",
       "        vertical-align: middle;\n",
       "    }\n",
       "\n",
       "    .dataframe tbody tr th {\n",
       "        vertical-align: top;\n",
       "    }\n",
       "\n",
       "    .dataframe thead th {\n",
       "        text-align: right;\n",
       "    }\n",
       "</style>\n",
       "<table border=\"1\" class=\"dataframe\">\n",
       "  <thead>\n",
       "    <tr style=\"text-align: right;\">\n",
       "      <th></th>\n",
       "      <th>Unnamed: 0</th>\n",
       "      <th>about.periodTime</th>\n",
       "      <th>about.periodTimeRemaining</th>\n",
       "      <th>about.dateTime</th>\n",
       "      <th>about.eventId</th>\n",
       "      <th>gamePk</th>\n",
       "      <th>team.id</th>\n",
       "      <th>team.name</th>\n",
       "      <th>result.event</th>\n",
       "      <th>coordinates.x</th>\n",
       "      <th>coordinates.y</th>\n",
       "      <th>result.emptyNet</th>\n",
       "      <th>result.strength.name</th>\n",
       "      <th>season</th>\n",
       "      <th>shooter</th>\n",
       "      <th>goalie</th>\n",
       "      <th>result.secondaryType</th>\n",
       "    </tr>\n",
       "  </thead>\n",
       "  <tbody>\n",
       "    <tr>\n",
       "      <th>0</th>\n",
       "      <td>0</td>\n",
       "      <td>01:11</td>\n",
       "      <td>18:49</td>\n",
       "      <td>2016-10-12T23:19:59Z</td>\n",
       "      <td>8</td>\n",
       "      <td>2016020001</td>\n",
       "      <td>10.0</td>\n",
       "      <td>Toronto Maple Leafs</td>\n",
       "      <td>Shot</td>\n",
       "      <td>-77.0</td>\n",
       "      <td>5.0</td>\n",
       "      <td>NaN</td>\n",
       "      <td>NaN</td>\n",
       "      <td>20162017</td>\n",
       "      <td>Mitchell Marner</td>\n",
       "      <td>Craig Anderson</td>\n",
       "      <td>Wrist Shot</td>\n",
       "    </tr>\n",
       "    <tr>\n",
       "      <th>1</th>\n",
       "      <td>1</td>\n",
       "      <td>02:53</td>\n",
       "      <td>17:07</td>\n",
       "      <td>2016-10-12T23:21:41Z</td>\n",
       "      <td>11</td>\n",
       "      <td>2016020001</td>\n",
       "      <td>9.0</td>\n",
       "      <td>Ottawa Senators</td>\n",
       "      <td>Shot</td>\n",
       "      <td>86.0</td>\n",
       "      <td>13.0</td>\n",
       "      <td>NaN</td>\n",
       "      <td>NaN</td>\n",
       "      <td>20162017</td>\n",
       "      <td>Chris Kelly</td>\n",
       "      <td>Frederik Andersen</td>\n",
       "      <td>Wrist Shot</td>\n",
       "    </tr>\n",
       "    <tr>\n",
       "      <th>2</th>\n",
       "      <td>2</td>\n",
       "      <td>04:01</td>\n",
       "      <td>15:59</td>\n",
       "      <td>2016-10-12T23:23:17Z</td>\n",
       "      <td>15</td>\n",
       "      <td>2016020001</td>\n",
       "      <td>9.0</td>\n",
       "      <td>Ottawa Senators</td>\n",
       "      <td>Shot</td>\n",
       "      <td>23.0</td>\n",
       "      <td>-38.0</td>\n",
       "      <td>NaN</td>\n",
       "      <td>NaN</td>\n",
       "      <td>20162017</td>\n",
       "      <td>Cody Ceci</td>\n",
       "      <td>Frederik Andersen</td>\n",
       "      <td>Wrist Shot</td>\n",
       "    </tr>\n",
       "    <tr>\n",
       "      <th>3</th>\n",
       "      <td>3</td>\n",
       "      <td>04:46</td>\n",
       "      <td>15:14</td>\n",
       "      <td>2016-10-12T23:24:02Z</td>\n",
       "      <td>16</td>\n",
       "      <td>2016020001</td>\n",
       "      <td>9.0</td>\n",
       "      <td>Ottawa Senators</td>\n",
       "      <td>Shot</td>\n",
       "      <td>33.0</td>\n",
       "      <td>-15.0</td>\n",
       "      <td>NaN</td>\n",
       "      <td>NaN</td>\n",
       "      <td>20162017</td>\n",
       "      <td>Erik Karlsson</td>\n",
       "      <td>Frederik Andersen</td>\n",
       "      <td>Slap Shot</td>\n",
       "    </tr>\n",
       "    <tr>\n",
       "      <th>4</th>\n",
       "      <td>4</td>\n",
       "      <td>06:46</td>\n",
       "      <td>13:14</td>\n",
       "      <td>2016-10-12T23:27:30Z</td>\n",
       "      <td>24</td>\n",
       "      <td>2016020001</td>\n",
       "      <td>10.0</td>\n",
       "      <td>Toronto Maple Leafs</td>\n",
       "      <td>Shot</td>\n",
       "      <td>-34.0</td>\n",
       "      <td>28.0</td>\n",
       "      <td>NaN</td>\n",
       "      <td>NaN</td>\n",
       "      <td>20162017</td>\n",
       "      <td>Martin Marincin</td>\n",
       "      <td>Craig Anderson</td>\n",
       "      <td>Wrist Shot</td>\n",
       "    </tr>\n",
       "    <tr>\n",
       "      <th>5</th>\n",
       "      <td>5</td>\n",
       "      <td>07:30</td>\n",
       "      <td>12:30</td>\n",
       "      <td>2016-10-12T23:28:15Z</td>\n",
       "      <td>25</td>\n",
       "      <td>2016020001</td>\n",
       "      <td>10.0</td>\n",
       "      <td>Toronto Maple Leafs</td>\n",
       "      <td>Shot</td>\n",
       "      <td>-33.0</td>\n",
       "      <td>-17.0</td>\n",
       "      <td>NaN</td>\n",
       "      <td>NaN</td>\n",
       "      <td>20162017</td>\n",
       "      <td>Mitchell Marner</td>\n",
       "      <td>Craig Anderson</td>\n",
       "      <td>Wrist Shot</td>\n",
       "    </tr>\n",
       "    <tr>\n",
       "      <th>6</th>\n",
       "      <td>6</td>\n",
       "      <td>08:21</td>\n",
       "      <td>11:39</td>\n",
       "      <td>2016-10-12T23:29:09Z</td>\n",
       "      <td>27</td>\n",
       "      <td>2016020001</td>\n",
       "      <td>10.0</td>\n",
       "      <td>Toronto Maple Leafs</td>\n",
       "      <td>Goal</td>\n",
       "      <td>-70.0</td>\n",
       "      <td>1.0</td>\n",
       "      <td>False</td>\n",
       "      <td>Even</td>\n",
       "      <td>20162017</td>\n",
       "      <td>NaN</td>\n",
       "      <td>Craig Anderson</td>\n",
       "      <td>Wrist Shot</td>\n",
       "    </tr>\n",
       "    <tr>\n",
       "      <th>7</th>\n",
       "      <td>7</td>\n",
       "      <td>08:29</td>\n",
       "      <td>11:31</td>\n",
       "      <td>2016-10-12T23:30:02Z</td>\n",
       "      <td>29</td>\n",
       "      <td>2016020001</td>\n",
       "      <td>10.0</td>\n",
       "      <td>Toronto Maple Leafs</td>\n",
       "      <td>Shot</td>\n",
       "      <td>-45.0</td>\n",
       "      <td>-36.0</td>\n",
       "      <td>NaN</td>\n",
       "      <td>NaN</td>\n",
       "      <td>20162017</td>\n",
       "      <td>Matt Martin</td>\n",
       "      <td>Craig Anderson</td>\n",
       "      <td>Wrist Shot</td>\n",
       "    </tr>\n",
       "    <tr>\n",
       "      <th>8</th>\n",
       "      <td>8</td>\n",
       "      <td>09:00</td>\n",
       "      <td>11:00</td>\n",
       "      <td>2016-10-12T23:32:48Z</td>\n",
       "      <td>31</td>\n",
       "      <td>2016020001</td>\n",
       "      <td>9.0</td>\n",
       "      <td>Ottawa Senators</td>\n",
       "      <td>Shot</td>\n",
       "      <td>33.0</td>\n",
       "      <td>-18.0</td>\n",
       "      <td>NaN</td>\n",
       "      <td>NaN</td>\n",
       "      <td>20162017</td>\n",
       "      <td>Erik Karlsson</td>\n",
       "      <td>Frederik Andersen</td>\n",
       "      <td>Slap Shot</td>\n",
       "    </tr>\n",
       "    <tr>\n",
       "      <th>9</th>\n",
       "      <td>9</td>\n",
       "      <td>10:16</td>\n",
       "      <td>09:44</td>\n",
       "      <td>2016-10-12T23:35:27Z</td>\n",
       "      <td>36</td>\n",
       "      <td>2016020001</td>\n",
       "      <td>9.0</td>\n",
       "      <td>Ottawa Senators</td>\n",
       "      <td>Shot</td>\n",
       "      <td>34.0</td>\n",
       "      <td>20.0</td>\n",
       "      <td>NaN</td>\n",
       "      <td>NaN</td>\n",
       "      <td>20162017</td>\n",
       "      <td>Erik Karlsson</td>\n",
       "      <td>Frederik Andersen</td>\n",
       "      <td>Wrist Shot</td>\n",
       "    </tr>\n",
       "    <tr>\n",
       "      <th>10</th>\n",
       "      <td>10</td>\n",
       "      <td>10:25</td>\n",
       "      <td>09:35</td>\n",
       "      <td>2016-10-12T23:35:37Z</td>\n",
       "      <td>37</td>\n",
       "      <td>2016020001</td>\n",
       "      <td>9.0</td>\n",
       "      <td>Ottawa Senators</td>\n",
       "      <td>Shot</td>\n",
       "      <td>34.0</td>\n",
       "      <td>-25.0</td>\n",
       "      <td>NaN</td>\n",
       "      <td>NaN</td>\n",
       "      <td>20162017</td>\n",
       "      <td>Erik Karlsson</td>\n",
       "      <td>Frederik Andersen</td>\n",
       "      <td>Slap Shot</td>\n",
       "    </tr>\n",
       "    <tr>\n",
       "      <th>11</th>\n",
       "      <td>11</td>\n",
       "      <td>10:26</td>\n",
       "      <td>09:34</td>\n",
       "      <td>2016-10-12T23:35:42Z</td>\n",
       "      <td>38</td>\n",
       "      <td>2016020001</td>\n",
       "      <td>9.0</td>\n",
       "      <td>Ottawa Senators</td>\n",
       "      <td>Goal</td>\n",
       "      <td>82.0</td>\n",
       "      <td>3.0</td>\n",
       "      <td>False</td>\n",
       "      <td>Even</td>\n",
       "      <td>20162017</td>\n",
       "      <td>NaN</td>\n",
       "      <td>Frederik Andersen</td>\n",
       "      <td>Backhand</td>\n",
       "    </tr>\n",
       "    <tr>\n",
       "      <th>12</th>\n",
       "      <td>12</td>\n",
       "      <td>10:40</td>\n",
       "      <td>09:20</td>\n",
       "      <td>2016-10-12T23:36:38Z</td>\n",
       "      <td>41</td>\n",
       "      <td>2016020001</td>\n",
       "      <td>9.0</td>\n",
       "      <td>Ottawa Senators</td>\n",
       "      <td>Shot</td>\n",
       "      <td>44.0</td>\n",
       "      <td>-6.0</td>\n",
       "      <td>NaN</td>\n",
       "      <td>NaN</td>\n",
       "      <td>20162017</td>\n",
       "      <td>Tom Pyatt</td>\n",
       "      <td>Frederik Andersen</td>\n",
       "      <td>Wrist Shot</td>\n",
       "    </tr>\n",
       "    <tr>\n",
       "      <th>13</th>\n",
       "      <td>13</td>\n",
       "      <td>12:44</td>\n",
       "      <td>07:16</td>\n",
       "      <td>2016-10-12T23:40:55Z</td>\n",
       "      <td>43</td>\n",
       "      <td>2016020001</td>\n",
       "      <td>9.0</td>\n",
       "      <td>Ottawa Senators</td>\n",
       "      <td>Shot</td>\n",
       "      <td>69.0</td>\n",
       "      <td>-8.0</td>\n",
       "      <td>NaN</td>\n",
       "      <td>NaN</td>\n",
       "      <td>20162017</td>\n",
       "      <td>Bobby Ryan</td>\n",
       "      <td>Frederik Andersen</td>\n",
       "      <td>Wrist Shot</td>\n",
       "    </tr>\n",
       "  </tbody>\n",
       "</table>\n",
       "</div>"
      ],
      "text/plain": [
       "    Unnamed: 0 about.periodTime about.periodTimeRemaining  \\\n",
       "0            0            01:11                     18:49   \n",
       "1            1            02:53                     17:07   \n",
       "2            2            04:01                     15:59   \n",
       "3            3            04:46                     15:14   \n",
       "4            4            06:46                     13:14   \n",
       "5            5            07:30                     12:30   \n",
       "6            6            08:21                     11:39   \n",
       "7            7            08:29                     11:31   \n",
       "8            8            09:00                     11:00   \n",
       "9            9            10:16                     09:44   \n",
       "10          10            10:25                     09:35   \n",
       "11          11            10:26                     09:34   \n",
       "12          12            10:40                     09:20   \n",
       "13          13            12:44                     07:16   \n",
       "\n",
       "          about.dateTime  about.eventId      gamePk  team.id  \\\n",
       "0   2016-10-12T23:19:59Z              8  2016020001     10.0   \n",
       "1   2016-10-12T23:21:41Z             11  2016020001      9.0   \n",
       "2   2016-10-12T23:23:17Z             15  2016020001      9.0   \n",
       "3   2016-10-12T23:24:02Z             16  2016020001      9.0   \n",
       "4   2016-10-12T23:27:30Z             24  2016020001     10.0   \n",
       "5   2016-10-12T23:28:15Z             25  2016020001     10.0   \n",
       "6   2016-10-12T23:29:09Z             27  2016020001     10.0   \n",
       "7   2016-10-12T23:30:02Z             29  2016020001     10.0   \n",
       "8   2016-10-12T23:32:48Z             31  2016020001      9.0   \n",
       "9   2016-10-12T23:35:27Z             36  2016020001      9.0   \n",
       "10  2016-10-12T23:35:37Z             37  2016020001      9.0   \n",
       "11  2016-10-12T23:35:42Z             38  2016020001      9.0   \n",
       "12  2016-10-12T23:36:38Z             41  2016020001      9.0   \n",
       "13  2016-10-12T23:40:55Z             43  2016020001      9.0   \n",
       "\n",
       "              team.name result.event  coordinates.x  coordinates.y  \\\n",
       "0   Toronto Maple Leafs         Shot          -77.0            5.0   \n",
       "1       Ottawa Senators         Shot           86.0           13.0   \n",
       "2       Ottawa Senators         Shot           23.0          -38.0   \n",
       "3       Ottawa Senators         Shot           33.0          -15.0   \n",
       "4   Toronto Maple Leafs         Shot          -34.0           28.0   \n",
       "5   Toronto Maple Leafs         Shot          -33.0          -17.0   \n",
       "6   Toronto Maple Leafs         Goal          -70.0            1.0   \n",
       "7   Toronto Maple Leafs         Shot          -45.0          -36.0   \n",
       "8       Ottawa Senators         Shot           33.0          -18.0   \n",
       "9       Ottawa Senators         Shot           34.0           20.0   \n",
       "10      Ottawa Senators         Shot           34.0          -25.0   \n",
       "11      Ottawa Senators         Goal           82.0            3.0   \n",
       "12      Ottawa Senators         Shot           44.0           -6.0   \n",
       "13      Ottawa Senators         Shot           69.0           -8.0   \n",
       "\n",
       "   result.emptyNet result.strength.name    season          shooter  \\\n",
       "0              NaN                  NaN  20162017  Mitchell Marner   \n",
       "1              NaN                  NaN  20162017      Chris Kelly   \n",
       "2              NaN                  NaN  20162017        Cody Ceci   \n",
       "3              NaN                  NaN  20162017    Erik Karlsson   \n",
       "4              NaN                  NaN  20162017  Martin Marincin   \n",
       "5              NaN                  NaN  20162017  Mitchell Marner   \n",
       "6            False                 Even  20162017              NaN   \n",
       "7              NaN                  NaN  20162017      Matt Martin   \n",
       "8              NaN                  NaN  20162017    Erik Karlsson   \n",
       "9              NaN                  NaN  20162017    Erik Karlsson   \n",
       "10             NaN                  NaN  20162017    Erik Karlsson   \n",
       "11           False                 Even  20162017              NaN   \n",
       "12             NaN                  NaN  20162017        Tom Pyatt   \n",
       "13             NaN                  NaN  20162017       Bobby Ryan   \n",
       "\n",
       "               goalie result.secondaryType  \n",
       "0      Craig Anderson           Wrist Shot  \n",
       "1   Frederik Andersen           Wrist Shot  \n",
       "2   Frederik Andersen           Wrist Shot  \n",
       "3   Frederik Andersen            Slap Shot  \n",
       "4      Craig Anderson           Wrist Shot  \n",
       "5      Craig Anderson           Wrist Shot  \n",
       "6      Craig Anderson           Wrist Shot  \n",
       "7      Craig Anderson           Wrist Shot  \n",
       "8   Frederik Andersen            Slap Shot  \n",
       "9   Frederik Andersen           Wrist Shot  \n",
       "10  Frederik Andersen            Slap Shot  \n",
       "11  Frederik Andersen             Backhand  \n",
       "12  Frederik Andersen           Wrist Shot  \n",
       "13  Frederik Andersen           Wrist Shot  "
      ]
     },
     "execution_count": 8,
     "metadata": {},
     "output_type": "execute_result"
    }
   ],
   "source": [
    "data.head(14)"
   ]
  },
  {
   "cell_type": "code",
   "execution_count": 6,
   "id": "0b76ee5b-d04e-40e0-b8f4-95a4a6f35376",
   "metadata": {},
   "outputs": [
    {
     "name": "stdout",
     "output_type": "stream",
     "text": [
      "(382245, 17)\n",
      "<class 'pandas.core.frame.DataFrame'>\n",
      "RangeIndex: 382245 entries, 0 to 382244\n",
      "Data columns (total 17 columns):\n",
      " #   Column                     Non-Null Count   Dtype  \n",
      "---  ------                     --------------   -----  \n",
      " 0   Unnamed: 0                 382245 non-null  int64  \n",
      " 1   about.periodTime           382245 non-null  object \n",
      " 2   about.periodTimeRemaining  382245 non-null  object \n",
      " 3   about.dateTime             382245 non-null  object \n",
      " 4   about.eventId              382245 non-null  int64  \n",
      " 5   gamePk                     382245 non-null  int64  \n",
      " 6   team.id                    382245 non-null  float64\n",
      " 7   team.name                  382245 non-null  object \n",
      " 8   result.event               382245 non-null  object \n",
      " 9   coordinates.x              382229 non-null  float64\n",
      " 10  coordinates.y              382230 non-null  float64\n",
      " 11  result.emptyNet            35905 non-null   object \n",
      " 12  result.strength.name       36291 non-null   object \n",
      " 13  season                     382245 non-null  int64  \n",
      " 14  shooter                    345954 non-null  object \n",
      " 15  goalie                     380473 non-null  object \n",
      " 16  result.secondaryType       382197 non-null  object \n",
      "dtypes: float64(3), int64(4), object(10)\n",
      "memory usage: 49.6+ MB\n",
      "None\n"
     ]
    }
   ],
   "source": [
    "print(data.shape) \n",
    "print(data.info())"
   ]
  },
  {
   "cell_type": "markdown",
   "id": "5cb77c2f-0f11-4112-9a20-494d8fdb63ba",
   "metadata": {},
   "source": [
    "## Question 5"
   ]
  },
  {
   "cell_type": "code",
   "execution_count": 20,
   "id": "1d038bad-7e21-4909-b9aa-4245ba7e4004",
   "metadata": {},
   "outputs": [],
   "source": [
    "season = pd.read_csv(\"./ift6758/data/2020P.csv\", )\n",
    "season.drop([\"Unnamed: 0\"], axis = 1, inplace = True)"
   ]
  },
  {
   "cell_type": "code",
   "execution_count": 269,
   "id": "8793c860-e43c-46c4-a2f9-9aa0925b919c",
   "metadata": {},
   "outputs": [
    {
     "name": "stdout",
     "output_type": "stream",
     "text": [
      "(4507, 20)\n"
     ]
    },
    {
     "data": {
      "text/html": [
       "<div>\n",
       "<style scoped>\n",
       "    .dataframe tbody tr th:only-of-type {\n",
       "        vertical-align: middle;\n",
       "    }\n",
       "\n",
       "    .dataframe tbody tr th {\n",
       "        vertical-align: top;\n",
       "    }\n",
       "\n",
       "    .dataframe thead th {\n",
       "        text-align: right;\n",
       "    }\n",
       "</style>\n",
       "<table border=\"1\" class=\"dataframe\">\n",
       "  <thead>\n",
       "    <tr style=\"text-align: right;\">\n",
       "      <th></th>\n",
       "      <th>period time</th>\n",
       "      <th>period time remaining</th>\n",
       "      <th>date time</th>\n",
       "      <th>period num</th>\n",
       "      <th>event Id</th>\n",
       "      <th>game ID</th>\n",
       "      <th>season</th>\n",
       "      <th>team ID</th>\n",
       "      <th>team name</th>\n",
       "      <th>shot or goal</th>\n",
       "      <th>coordinates x</th>\n",
       "      <th>coordinates y</th>\n",
       "      <th>shooter</th>\n",
       "      <th>goalie</th>\n",
       "      <th>shot type</th>\n",
       "      <th>strength</th>\n",
       "      <th>empty net</th>\n",
       "      <th>home name</th>\n",
       "      <th>away name</th>\n",
       "      <th>rinkSide</th>\n",
       "    </tr>\n",
       "  </thead>\n",
       "  <tbody>\n",
       "    <tr>\n",
       "      <th>0</th>\n",
       "      <td>00:34</td>\n",
       "      <td>19:26</td>\n",
       "      <td>2021-05-16 16:28:44</td>\n",
       "      <td>1</td>\n",
       "      <td>56</td>\n",
       "      <td>2020030111</td>\n",
       "      <td>20202021</td>\n",
       "      <td>5.0</td>\n",
       "      <td>Pittsburgh Penguins</td>\n",
       "      <td>Shot</td>\n",
       "      <td>85.0</td>\n",
       "      <td>-10.0</td>\n",
       "      <td>Sidney Crosby</td>\n",
       "      <td>Ilya Sorokin</td>\n",
       "      <td>Tip-In</td>\n",
       "      <td>NaN</td>\n",
       "      <td>NaN</td>\n",
       "      <td>Pittsburgh Penguins</td>\n",
       "      <td>New York Islanders</td>\n",
       "      <td>left</td>\n",
       "    </tr>\n",
       "    <tr>\n",
       "      <th>1</th>\n",
       "      <td>00:43</td>\n",
       "      <td>19:17</td>\n",
       "      <td>2021-05-16 16:29:42</td>\n",
       "      <td>1</td>\n",
       "      <td>58</td>\n",
       "      <td>2020030111</td>\n",
       "      <td>20202021</td>\n",
       "      <td>5.0</td>\n",
       "      <td>Pittsburgh Penguins</td>\n",
       "      <td>Shot</td>\n",
       "      <td>18.0</td>\n",
       "      <td>-21.0</td>\n",
       "      <td>Cody Ceci</td>\n",
       "      <td>Ilya Sorokin</td>\n",
       "      <td>Wrist Shot</td>\n",
       "      <td>NaN</td>\n",
       "      <td>NaN</td>\n",
       "      <td>Pittsburgh Penguins</td>\n",
       "      <td>New York Islanders</td>\n",
       "      <td>left</td>\n",
       "    </tr>\n",
       "    <tr>\n",
       "      <th>2</th>\n",
       "      <td>02:15</td>\n",
       "      <td>17:45</td>\n",
       "      <td>2021-05-16 16:31:14</td>\n",
       "      <td>1</td>\n",
       "      <td>60</td>\n",
       "      <td>2020030111</td>\n",
       "      <td>20202021</td>\n",
       "      <td>5.0</td>\n",
       "      <td>Pittsburgh Penguins</td>\n",
       "      <td>Shot</td>\n",
       "      <td>61.0</td>\n",
       "      <td>3.0</td>\n",
       "      <td>Brian Dumoulin</td>\n",
       "      <td>Ilya Sorokin</td>\n",
       "      <td>Wrist Shot</td>\n",
       "      <td>NaN</td>\n",
       "      <td>NaN</td>\n",
       "      <td>Pittsburgh Penguins</td>\n",
       "      <td>New York Islanders</td>\n",
       "      <td>left</td>\n",
       "    </tr>\n",
       "    <tr>\n",
       "      <th>3</th>\n",
       "      <td>02:22</td>\n",
       "      <td>17:38</td>\n",
       "      <td>2021-05-16 16:31:21</td>\n",
       "      <td>1</td>\n",
       "      <td>62</td>\n",
       "      <td>2020030111</td>\n",
       "      <td>20202021</td>\n",
       "      <td>5.0</td>\n",
       "      <td>Pittsburgh Penguins</td>\n",
       "      <td>Shot</td>\n",
       "      <td>60.0</td>\n",
       "      <td>5.0</td>\n",
       "      <td>Bryan Rust</td>\n",
       "      <td>Ilya Sorokin</td>\n",
       "      <td>Wrist Shot</td>\n",
       "      <td>NaN</td>\n",
       "      <td>NaN</td>\n",
       "      <td>Pittsburgh Penguins</td>\n",
       "      <td>New York Islanders</td>\n",
       "      <td>left</td>\n",
       "    </tr>\n",
       "    <tr>\n",
       "      <th>4</th>\n",
       "      <td>05:36</td>\n",
       "      <td>14:24</td>\n",
       "      <td>2021-05-16 16:35:39</td>\n",
       "      <td>1</td>\n",
       "      <td>68</td>\n",
       "      <td>2020030111</td>\n",
       "      <td>20202021</td>\n",
       "      <td>2.0</td>\n",
       "      <td>New York Islanders</td>\n",
       "      <td>Shot</td>\n",
       "      <td>-40.0</td>\n",
       "      <td>-29.0</td>\n",
       "      <td>Adam Pelech</td>\n",
       "      <td>Tristan Jarry</td>\n",
       "      <td>Slap Shot</td>\n",
       "      <td>NaN</td>\n",
       "      <td>NaN</td>\n",
       "      <td>Pittsburgh Penguins</td>\n",
       "      <td>New York Islanders</td>\n",
       "      <td>left</td>\n",
       "    </tr>\n",
       "  </tbody>\n",
       "</table>\n",
       "</div>"
      ],
      "text/plain": [
       "  period time period time remaining            date time  period num  \\\n",
       "0       00:34                 19:26  2021-05-16 16:28:44           1   \n",
       "1       00:43                 19:17  2021-05-16 16:29:42           1   \n",
       "2       02:15                 17:45  2021-05-16 16:31:14           1   \n",
       "3       02:22                 17:38  2021-05-16 16:31:21           1   \n",
       "4       05:36                 14:24  2021-05-16 16:35:39           1   \n",
       "\n",
       "   event Id     game ID    season  team ID            team name shot or goal  \\\n",
       "0        56  2020030111  20202021      5.0  Pittsburgh Penguins         Shot   \n",
       "1        58  2020030111  20202021      5.0  Pittsburgh Penguins         Shot   \n",
       "2        60  2020030111  20202021      5.0  Pittsburgh Penguins         Shot   \n",
       "3        62  2020030111  20202021      5.0  Pittsburgh Penguins         Shot   \n",
       "4        68  2020030111  20202021      2.0   New York Islanders         Shot   \n",
       "\n",
       "   coordinates x  coordinates y         shooter         goalie   shot type  \\\n",
       "0           85.0          -10.0   Sidney Crosby   Ilya Sorokin      Tip-In   \n",
       "1           18.0          -21.0       Cody Ceci   Ilya Sorokin  Wrist Shot   \n",
       "2           61.0            3.0  Brian Dumoulin   Ilya Sorokin  Wrist Shot   \n",
       "3           60.0            5.0      Bryan Rust   Ilya Sorokin  Wrist Shot   \n",
       "4          -40.0          -29.0     Adam Pelech  Tristan Jarry   Slap Shot   \n",
       "\n",
       "  strength empty net            home name           away name rinkSide  \n",
       "0      NaN       NaN  Pittsburgh Penguins  New York Islanders     left  \n",
       "1      NaN       NaN  Pittsburgh Penguins  New York Islanders     left  \n",
       "2      NaN       NaN  Pittsburgh Penguins  New York Islanders     left  \n",
       "3      NaN       NaN  Pittsburgh Penguins  New York Islanders     left  \n",
       "4      NaN       NaN  Pittsburgh Penguins  New York Islanders     left  "
      ]
     },
     "execution_count": 269,
     "metadata": {},
     "output_type": "execute_result"
    }
   ],
   "source": [
    "print(season.shape)\n",
    "season.head()"
   ]
  },
  {
   "cell_type": "code",
   "execution_count": 152,
   "id": "abe86b37-a83e-4055-9652-c9b20fea686e",
   "metadata": {},
   "outputs": [],
   "source": [
    "cols = ['team name', 'shot or goal', 'shot type'] "
   ]
  },
  {
   "cell_type": "code",
   "execution_count": 226,
   "id": "3c0133fc-7756-48a7-820b-50887e1f3fce",
   "metadata": {},
   "outputs": [],
   "source": [
    "df = season[cols]"
   ]
  },
  {
   "cell_type": "code",
   "execution_count": 154,
   "id": "f91d7195-bb20-45ed-8df6-7a701c9a20a6",
   "metadata": {},
   "outputs": [
    {
     "name": "stdout",
     "output_type": "stream",
     "text": [
      "(4507, 3)\n"
     ]
    },
    {
     "data": {
      "text/html": [
       "<div>\n",
       "<style scoped>\n",
       "    .dataframe tbody tr th:only-of-type {\n",
       "        vertical-align: middle;\n",
       "    }\n",
       "\n",
       "    .dataframe tbody tr th {\n",
       "        vertical-align: top;\n",
       "    }\n",
       "\n",
       "    .dataframe thead th {\n",
       "        text-align: right;\n",
       "    }\n",
       "</style>\n",
       "<table border=\"1\" class=\"dataframe\">\n",
       "  <thead>\n",
       "    <tr style=\"text-align: right;\">\n",
       "      <th></th>\n",
       "      <th>team name</th>\n",
       "      <th>shot or goal</th>\n",
       "      <th>shot type</th>\n",
       "    </tr>\n",
       "  </thead>\n",
       "  <tbody>\n",
       "    <tr>\n",
       "      <th>0</th>\n",
       "      <td>Pittsburgh Penguins</td>\n",
       "      <td>Shot</td>\n",
       "      <td>Tip-In</td>\n",
       "    </tr>\n",
       "    <tr>\n",
       "      <th>1</th>\n",
       "      <td>Pittsburgh Penguins</td>\n",
       "      <td>Shot</td>\n",
       "      <td>Wrist Shot</td>\n",
       "    </tr>\n",
       "    <tr>\n",
       "      <th>2</th>\n",
       "      <td>Pittsburgh Penguins</td>\n",
       "      <td>Shot</td>\n",
       "      <td>Wrist Shot</td>\n",
       "    </tr>\n",
       "    <tr>\n",
       "      <th>3</th>\n",
       "      <td>Pittsburgh Penguins</td>\n",
       "      <td>Shot</td>\n",
       "      <td>Wrist Shot</td>\n",
       "    </tr>\n",
       "    <tr>\n",
       "      <th>4</th>\n",
       "      <td>New York Islanders</td>\n",
       "      <td>Shot</td>\n",
       "      <td>Slap Shot</td>\n",
       "    </tr>\n",
       "  </tbody>\n",
       "</table>\n",
       "</div>"
      ],
      "text/plain": [
       "             team name shot or goal   shot type\n",
       "0  Pittsburgh Penguins         Shot      Tip-In\n",
       "1  Pittsburgh Penguins         Shot  Wrist Shot\n",
       "2  Pittsburgh Penguins         Shot  Wrist Shot\n",
       "3  Pittsburgh Penguins         Shot  Wrist Shot\n",
       "4   New York Islanders         Shot   Slap Shot"
      ]
     },
     "execution_count": 210,
     "metadata": {},
     "output_type": "execute_result"
    }
   ],
   "source": [
    "print(df.shape) \n",
    "df.head()"
   ]
  },
  {
   "cell_type": "code",
   "execution_count": 155,
   "id": "85307d84-a57d-47a1-bfa6-42fa166f361f",
   "metadata": {},
   "outputs": [
    {
     "name": "stdout",
     "output_type": "stream",
     "text": [
      "['Pittsburgh Penguins' 'New York Islanders' 'Washington Capitals'\n",
      " 'Boston Bruins' 'Nashville Predators' 'Carolina Hurricanes'\n",
      " 'Florida Panthers' 'Tampa Bay Lightning' 'St. Louis Blues'\n",
      " 'Colorado Avalanche' 'Minnesota Wild' 'Vegas Golden Knights'\n",
      " 'Toronto Maple Leafs' 'Montréal Canadiens' 'Winnipeg Jets'\n",
      " 'Edmonton Oilers']\n",
      "total number of teams: 16\n"
     ]
    }
   ],
   "source": [
    "# checking how many teams are there \n",
    "print(df['team name'].unique())\n",
    "print(\"total number of teams:\", len(df['team name'].unique()))"
   ]
  },
  {
   "cell_type": "code",
   "execution_count": 141,
   "id": "2e19bbee-bd50-4b79-9861-1120e95ef57a",
   "metadata": {},
   "outputs": [],
   "source": [
    "df_hist = df.groupby(['shot type'])['shot type'].count()"
   ]
  },
  {
   "cell_type": "code",
   "execution_count": 255,
   "id": "1c6c66d7-d34d-4dbd-ac9c-58b3ea183a93",
   "metadata": {},
   "outputs": [
    {
     "data": {
      "text/plain": [
       "shot type\n",
       "Backhand        355\n",
       "Deflected       109\n",
       "Slap Shot       585\n",
       "Snap Shot       518\n",
       "Tip-In          223\n",
       "Wrap-around      50\n",
       "Wrist Shot     2667\n",
       "Name: shot type, dtype: int64"
      ]
     },
     "execution_count": 255,
     "metadata": {},
     "output_type": "execute_result"
    }
   ],
   "source": [
    "df_hist"
   ]
  },
  {
   "cell_type": "code",
   "execution_count": 170,
   "id": "8ef0b54a-0cd3-4b68-81fc-8df60a7d779d",
   "metadata": {},
   "outputs": [],
   "source": [
    "#counting the number of goals for each shot type\n",
    "goals = []\n",
    "for shot in df_hist.index:\n",
    "    goals.append(np.sum( (df['shot type'] == shot)  & (df['shot or goal'] == 'Goal')))"
   ]
  },
  {
   "cell_type": "code",
   "execution_count": 171,
   "id": "9922a32a-326b-483c-90e6-665e17d3a6cc",
   "metadata": {},
   "outputs": [
    {
     "data": {
      "text/plain": [
       "[32, 19, 39, 40, 36, 5, 216]"
      ]
     },
     "execution_count": 171,
     "metadata": {},
     "output_type": "execute_result"
    }
   ],
   "source": [
    "goals"
   ]
  },
  {
   "cell_type": "code",
   "execution_count": 310,
   "id": "fd697693-82d8-49d2-a585-e8aa7b7b60e6",
   "metadata": {},
   "outputs": [
    {
     "data": {
      "image/png": "[encoded data removed]",
      "text/plain": [
       "<Figure size 1080x720 with 1 Axes>"
      ]
     },
     "metadata": {
      "needs_background": "light"
     },
     "output_type": "display_data"
    }
   ],
   "source": [
    "with plt.style.context('seaborn-talk'): \n",
    "    df_hist.plot(kind = 'bar', width = 0.8, figsize = (15, 10), color = 'aquamarine', label = \"Total Shots\")\n",
    "    plt.bar(df_hist.index, goals, color = 'mediumpurple', width = 0.7, label = \"Goals\")\n",
    "    plt.ylabel(\"frequency\") \n",
    "    plt.title(\"Figure 1: Frequency of each Shot-Type across all teams in 2020-2021 (Playoff) Season\")\n",
    "    plt.legend(loc='upper left')"
   ]
  },
  {
   "cell_type": "code",
   "execution_count": 311,
   "id": "faa012ae-417d-48d4-937a-0dc0c398d912",
   "metadata": {},
   "outputs": [],
   "source": [
    "df = season[cols]\n",
    "df = df.groupby(['team name','shot type'])"
   ]
  },
  {
   "cell_type": "code",
   "execution_count": 312,
   "id": "eb73ede6-2970-4692-83aa-d0c2ecaf0781",
   "metadata": {},
   "outputs": [],
   "source": [
    "df = df['shot type'].count()"
   ]
  },
  {
   "cell_type": "code",
   "execution_count": 313,
   "id": "5e2ee5f5-4165-4af7-8180-5cea5e431e91",
   "metadata": {},
   "outputs": [
    {
     "data": {
      "text/plain": [
       "team name      shot type  \n",
       "Boston Bruins  Backhand        24\n",
       "               Deflected        8\n",
       "               Slap Shot       45\n",
       "               Snap Shot       35\n",
       "               Tip-In          18\n",
       "                             ... \n",
       "Winnipeg Jets  Slap Shot       55\n",
       "               Snap Shot       30\n",
       "               Tip-In           6\n",
       "               Wrap-around      3\n",
       "               Wrist Shot     126\n",
       "Name: shot type, Length: 106, dtype: int64"
      ]
     },
     "execution_count": 313,
     "metadata": {},
     "output_type": "execute_result"
    }
   ],
   "source": [
    "df"
   ]
  },
  {
   "cell_type": "code",
   "execution_count": 314,
   "id": "db070ae1-9bcd-4b27-8fa3-ca95da6a5391",
   "metadata": {},
   "outputs": [
    {
     "data": {
      "image/png": "[encoded data removed]",
      "text/plain": [
       "<Figure size 1728x864 with 1 Axes>"
      ]
     },
     "metadata": {
      "needs_background": "light"
     },
     "output_type": "display_data"
    }
   ],
   "source": [
    "with plt.style.context('seaborn-talk'):\n",
    "    df.unstack().plot(kind ='bar', width = 0.8, figsize = (24, 12))\n",
    "    plt.title(\"Figure 2: Frequency of Shot-Type for each team in 2020-2021 (Playoff) Season\")\n",
    "    plt.ylabel(\"Frequency\")"
   ]
  },
  {
   "cell_type": "code",
   "execution_count": 265,
   "id": "7a1dfd68-5414-46d4-ba40-e5c1491136db",
   "metadata": {},
   "outputs": [
    {
     "data": {
      "image/png": "[encoded data removed]",
      "text/plain": [
       "<Figure size 1080x720 with 1 Axes>"
      ]
     },
     "metadata": {
      "needs_background": "light"
     },
     "output_type": "display_data"
    }
   ],
   "source": [
    "#finding the most lethal shot\n",
    "goal_perc = (goals / df_hist) * 100 \n",
    "with plt.style.context('seaborn-talk'):\n",
    "    plt.figure(figsize = (15, 10))\n",
    "    plt.bar(df_hist.index, goal_perc, color = 'mediumpurple', label = 'Goal %')\n",
    "    plt.ylabel('percentage') \n",
    "    plt.xlabel('type of shot')\n",
    "    plt.title(\"Figure 3: Goal % for each shot-type\")\n"
   ]
  },
  {
   "cell_type": "markdown",
   "id": "80607296-6316-4018-968c-c421fd33eacd",
   "metadata": {},
   "source": [
    "**Discussion** \n",
    "\n",
    "In this part, we analyse the NHL data from the 2020-2021 (playoff) season. \n",
    "\n",
    "From _Figure 1_ we observe that _Wrist Shot_ is the most common type of shot. Being known to be the most accurate type of shot, this result doesn't come as a surprise. However, we wanted to dive a step deeper and observe if this trend is similar across all the teams which indeed it is. An interesting observation is that the players from the teams: {New York Islands, Montreal Canadiens} heavily favor this shot over other shots. \n",
    "\n",
    "Next, we focus our attention towards the goals scored. We see that most of the goals are scored via the most-populous _wrist shot_. To figure out the most lethal shot we make use of _Figure 3_ in which we calculate the percentage of (total)shots that lead to goal. We observe that most goals are scored through deflection or tap-ins. Both of these are interesting statistics as they should encourage the teams to shoot more often and also have a player close to the goal during the attack to finish the play. \n",
    "\n",
    "In terms of type of shot, we found that the _Wrap-around_ shot is most lethal, followed by _backhand_ and _Wrist Shot_."
   ]
  },
  {
   "cell_type": "markdown",
   "id": "7f737573-fe5c-4d2e-b52c-a469ac7a1917",
   "metadata": {},
   "source": [
    "## Part 2"
   ]
  },
  {
   "cell_type": "code",
   "execution_count": 2,
   "id": "4d8ebb02-2736-4b64-b378-cc88b341d37b",
   "metadata": {},
   "outputs": [],
   "source": [
    "def get_seasons(start, end): \n",
    "    \"\"\"\n",
    "    INPUTS\n",
    "    - start: year of first season in the range of target seasons: Ex: Target seasons: 2018-2019 to 2020-2021; start == 2018\n",
    "    - end: year of the last season in the range of target seasons: Ex: Target seasons: 2018-2019 to 2020-2021; end == 2020\n",
    "    \n",
    "    OUTPUT: \n",
    "    An array of dataframes, where each dataframe contains a season in the target range\n",
    "    \"\"\"\n",
    "    seasons = []\n",
    "    for year in range(start, end + 1): \n",
    "        season = pd.read_csv(\"./ift6758/data/\" + str(year) + \"R.csv\") \n",
    "        season.drop([\"Unnamed: 0\"], axis = 1, inplace = True)\n",
    "        cols = ['period num', 'game ID', 'team name', 'shot or goal', 'coordinates x', 'coordinates y', 'home name', 'away name', 'rinkSide'] \n",
    "        season = season[cols] \n",
    "        mask = season['shot or goal'] == 'Goal'\n",
    "        season = season[mask]\n",
    "        season.reset_index(inplace = True)\n",
    "        seasons.append(season)\n",
    "        \n",
    "    return seasons\n",
    "\n",
    "\n",
    "def get_goal_coordinates(rinkSide, opposite = False): \n",
    "    \"\"\"\n",
    "    Input: \n",
    "    - rinkSide: The column \"rinkSide\" which is part of the dataframe; indicates which side of the rink the home-team starts (period == 1) \n",
    "    - opposite: boolean\n",
    "    Output: \n",
    "    - An array of shape (1 x 2); [x, y];  containing the coordinates of the goal post\n",
    "    \"\"\"\n",
    "    left_goal = np.array([-100, 0])\n",
    "    right_goal = np.array([100, 0]) \n",
    "    if opposite == False: \n",
    "        if rinkSide == \"left\": \n",
    "            return right_goal\n",
    "        else: \n",
    "            return left_goal\n",
    "    else: \n",
    "        if rinkSide == \"left\": \n",
    "            return left_goal\n",
    "        else: \n",
    "            return right_goal\n",
    "                         \n",
    "\n",
    "def get_shot_distance(df2): \n",
    "    \"\"\"\n",
    "    Returns the distance of shot from the (target) goal for each shot in the dataframe\n",
    "    Input: \n",
    "    - df2: dataframe; shape (m x n) \n",
    "    Output: \n",
    "    - np-array; shape (m x 1) \n",
    "    \"\"\"\n",
    "    distance = []\n",
    "    for shot in range(len(df2)): \n",
    "        shot_coordinates = np.array([df2.loc[shot, 'coordinates x'], df2.loc[shot, 'coordinates y']])\n",
    "        if (df2.loc[shot, 'period num'].item() % 2) == 1: \n",
    "            if df2.loc[shot, 'team name'] == df2.loc[shot, 'home name']:# rinkSide\n",
    "                distance.append(np.linalg.norm(shot_coordinates - get_goal_coordinates(df2.loc[shot, 'rinkSide'], opposite = False)))\n",
    "            else: \n",
    "                distance.append(np.linalg.norm(shot_coordinates - get_goal_coordinates(df2.loc[shot, 'rinkSide'], opposite = True)))\n",
    "        else: \n",
    "            if df2.loc[shot, 'team name'] == df2.loc[shot, 'home name']:# rinkSide\n",
    "                distance.append(np.linalg.norm(shot_coordinates - get_goal_coordinates(df2.loc[shot, 'rinkSide'], opposite = True)))\n",
    "            else: \n",
    "                distance.append(np.linalg.norm(shot_coordinates - get_goal_coordinates(df2.loc[shot, 'rinkSide'], opposite = False)))\n",
    "            \n",
    "    return distance\n",
    "        \n",
    "        "
   ]
  },
  {
   "cell_type": "code",
   "execution_count": 381,
   "id": "d6352be5-d1cc-4e72-9223-cece644133aa",
   "metadata": {},
   "outputs": [],
   "source": [
    "# iterate over each shot\n",
    "    # determine which rink side it is on\n",
    "        # if period {1, 3, 5,}: \n",
    "            # if team name == home team -> rinkSide \n",
    "            # else: opposite of rinkSide \n",
    "        # else: \n",
    "            # if team name == home team -> opposite rinkSide \n",
    "            # else: rinkSide"
   ]
  },
  {
   "cell_type": "code",
   "execution_count": 345,
   "id": "2094774e-55e0-4d08-85a8-22e1b8cfe45d",
   "metadata": {},
   "outputs": [],
   "source": [
    "seasons = get_seasons(2018, 2020)"
   ]
  },
  {
   "cell_type": "code",
   "execution_count": 353,
   "id": "35127a1c-ddbe-418b-8430-d53210333a9b",
   "metadata": {},
   "outputs": [
    {
     "data": {
      "text/html": [
       "<div>\n",
       "<style scoped>\n",
       "    .dataframe tbody tr th:only-of-type {\n",
       "        vertical-align: middle;\n",
       "    }\n",
       "\n",
       "    .dataframe tbody tr th {\n",
       "        vertical-align: top;\n",
       "    }\n",
       "\n",
       "    .dataframe thead th {\n",
       "        text-align: right;\n",
       "    }\n",
       "</style>\n",
       "<table border=\"1\" class=\"dataframe\">\n",
       "  <thead>\n",
       "    <tr style=\"text-align: right;\">\n",
       "      <th></th>\n",
       "      <th>index</th>\n",
       "      <th>period num</th>\n",
       "      <th>game ID</th>\n",
       "      <th>team name</th>\n",
       "      <th>shot or goal</th>\n",
       "      <th>coordinates x</th>\n",
       "      <th>coordinates y</th>\n",
       "      <th>home name</th>\n",
       "      <th>away name</th>\n",
       "      <th>rinkSide</th>\n",
       "    </tr>\n",
       "  </thead>\n",
       "  <tbody>\n",
       "    <tr>\n",
       "      <th>0</th>\n",
       "      <td>7</td>\n",
       "      <td>1</td>\n",
       "      <td>2018020001</td>\n",
       "      <td>Montréal Canadiens</td>\n",
       "      <td>Goal</td>\n",
       "      <td>87.0</td>\n",
       "      <td>-3.0</td>\n",
       "      <td>Toronto Maple Leafs</td>\n",
       "      <td>Montréal Canadiens</td>\n",
       "      <td>right</td>\n",
       "    </tr>\n",
       "    <tr>\n",
       "      <th>1</th>\n",
       "      <td>13</td>\n",
       "      <td>1</td>\n",
       "      <td>2018020001</td>\n",
       "      <td>Toronto Maple Leafs</td>\n",
       "      <td>Goal</td>\n",
       "      <td>-64.0</td>\n",
       "      <td>-14.0</td>\n",
       "      <td>Toronto Maple Leafs</td>\n",
       "      <td>Montréal Canadiens</td>\n",
       "      <td>right</td>\n",
       "    </tr>\n",
       "    <tr>\n",
       "      <th>2</th>\n",
       "      <td>36</td>\n",
       "      <td>2</td>\n",
       "      <td>2018020001</td>\n",
       "      <td>Toronto Maple Leafs</td>\n",
       "      <td>Goal</td>\n",
       "      <td>63.0</td>\n",
       "      <td>5.0</td>\n",
       "      <td>Toronto Maple Leafs</td>\n",
       "      <td>Montréal Canadiens</td>\n",
       "      <td>right</td>\n",
       "    </tr>\n",
       "    <tr>\n",
       "      <th>3</th>\n",
       "      <td>37</td>\n",
       "      <td>2</td>\n",
       "      <td>2018020001</td>\n",
       "      <td>Montréal Canadiens</td>\n",
       "      <td>Goal</td>\n",
       "      <td>-53.0</td>\n",
       "      <td>7.0</td>\n",
       "      <td>Toronto Maple Leafs</td>\n",
       "      <td>Montréal Canadiens</td>\n",
       "      <td>right</td>\n",
       "    </tr>\n",
       "    <tr>\n",
       "      <th>4</th>\n",
       "      <td>61</td>\n",
       "      <td>4</td>\n",
       "      <td>2018020001</td>\n",
       "      <td>Toronto Maple Leafs</td>\n",
       "      <td>Goal</td>\n",
       "      <td>74.0</td>\n",
       "      <td>4.0</td>\n",
       "      <td>Toronto Maple Leafs</td>\n",
       "      <td>Montréal Canadiens</td>\n",
       "      <td>right</td>\n",
       "    </tr>\n",
       "  </tbody>\n",
       "</table>\n",
       "</div>"
      ],
      "text/plain": [
       "   index  period num     game ID            team name shot or goal  \\\n",
       "0      7           1  2018020001   Montréal Canadiens         Goal   \n",
       "1     13           1  2018020001  Toronto Maple Leafs         Goal   \n",
       "2     36           2  2018020001  Toronto Maple Leafs         Goal   \n",
       "3     37           2  2018020001   Montréal Canadiens         Goal   \n",
       "4     61           4  2018020001  Toronto Maple Leafs         Goal   \n",
       "\n",
       "   coordinates x  coordinates y            home name           away name  \\\n",
       "0           87.0           -3.0  Toronto Maple Leafs  Montréal Canadiens   \n",
       "1          -64.0          -14.0  Toronto Maple Leafs  Montréal Canadiens   \n",
       "2           63.0            5.0  Toronto Maple Leafs  Montréal Canadiens   \n",
       "3          -53.0            7.0  Toronto Maple Leafs  Montréal Canadiens   \n",
       "4           74.0            4.0  Toronto Maple Leafs  Montréal Canadiens   \n",
       "\n",
       "  rinkSide  \n",
       "0    right  \n",
       "1    right  \n",
       "2    right  \n",
       "3    right  \n",
       "4    right  "
      ]
     },
     "execution_count": 353,
     "metadata": {},
     "output_type": "execute_result"
    }
   ],
   "source": [
    "seasons[0].head()"
   ]
  },
  {
   "cell_type": "code",
   "execution_count": null,
   "id": "89c64899-874b-4602-bad1-72e3ac84211a",
   "metadata": {},
   "outputs": [],
   "source": [
    "distances = [] \n",
    "for s in seasons: \n",
    "    distances.append(get_shot_distance(s))"
   ]
  },
  {
   "cell_type": "code",
   "execution_count": 380,
   "id": "be1dc2ab-93ad-4308-841b-c43ce3ee314e",
   "metadata": {},
   "outputs": [
    {
     "data": {
      "image/png": "[encoded data removed]",
      "text/plain": [
       "<Figure size 1080x720 with 1 Axes>"
      ]
     },
     "metadata": {
      "needs_background": "light"
     },
     "output_type": "display_data"
    }
   ],
   "source": [
    "with plt.style.context('seaborn-talk'):\n",
    "    plt.figure(figsize = (15, 10))\n",
    "    plt.hist(distances[0], bins = 'auto', color = 'mediumpurple', alpha = 0.7, label = '2018-2019 Season')\n",
    "    plt.hist(distances[1], bins = 'auto', color = 'aqua', alpha = 0.7, label = '2019-2020 Season')\n",
    "    plt.hist(distances[2], bins = 'auto', color = 'firebrick', alpha = 0.7, label = '2020-2021 Season')\n",
    "    plt.legend(loc = 'upper right') \n",
    "    plt.xlabel('Shot distance') \n",
    "    plt.ylabel('')\n",
    "    plt.title('Shot Distance vs Number of Goals')\n",
    "    plt.show()\n"
   ]
  },
  {
   "cell_type": "markdown",
   "id": "5e1a75ce-6625-44b8-be97-550ed7712e07",
   "metadata": {},
   "source": [
    "**Discussion** \n",
    "\n",
    "We notice that across all the seasons, chances of scoring a goal are the most when the distance from the goal is between 15 and 75. Surprisingly, there is not much change as go from 2018-2019 season to 2020-2021 season. "
   ]
  },
  {
   "cell_type": "markdown",
   "id": "e6ebafe0-acc2-4168-b10d-8faf0cd568a5",
   "metadata": {},
   "source": [
    "## Part 3"
   ]
  },
  {
   "cell_type": "code",
   "execution_count": 49,
   "id": "859e5996-075b-4ae0-93e2-534bebffa0c0",
   "metadata": {},
   "outputs": [],
   "source": [
    "s = pd.read_csv(\"./ift6758/data/2020R.csv\", )"
   ]
  },
  {
   "cell_type": "code",
   "execution_count": 50,
   "id": "586185e4-44e4-4df3-a540-200fc3a00195",
   "metadata": {},
   "outputs": [],
   "source": [
    "s.drop([\"Unnamed: 0\"], axis = 1, inplace = True)\n",
    "cols = ['period num', 'game ID', 'team name', 'shot or goal', 'shot type', 'coordinates x', 'coordinates y', 'home name', 'away name', 'rinkSide']\n",
    "s = s[cols]\n",
    "#s.dropna(inplace = True)"
   ]
  },
  {
   "cell_type": "code",
   "execution_count": 51,
   "id": "77a2b29c-818c-438a-98b0-616e05472d1a",
   "metadata": {},
   "outputs": [
    {
     "data": {
      "text/html": [
       "<div>\n",
       "<style scoped>\n",
       "    .dataframe tbody tr th:only-of-type {\n",
       "        vertical-align: middle;\n",
       "    }\n",
       "\n",
       "    .dataframe tbody tr th {\n",
       "        vertical-align: top;\n",
       "    }\n",
       "\n",
       "    .dataframe thead th {\n",
       "        text-align: right;\n",
       "    }\n",
       "</style>\n",
       "<table border=\"1\" class=\"dataframe\">\n",
       "  <thead>\n",
       "    <tr style=\"text-align: right;\">\n",
       "      <th></th>\n",
       "      <th>period num</th>\n",
       "      <th>game ID</th>\n",
       "      <th>team name</th>\n",
       "      <th>shot or goal</th>\n",
       "      <th>shot type</th>\n",
       "      <th>coordinates x</th>\n",
       "      <th>coordinates y</th>\n",
       "      <th>home name</th>\n",
       "      <th>away name</th>\n",
       "      <th>rinkSide</th>\n",
       "    </tr>\n",
       "  </thead>\n",
       "  <tbody>\n",
       "    <tr>\n",
       "      <th>0</th>\n",
       "      <td>1</td>\n",
       "      <td>2020020001</td>\n",
       "      <td>Philadelphia Flyers</td>\n",
       "      <td>Shot</td>\n",
       "      <td>Wrist Shot</td>\n",
       "      <td>-74.0</td>\n",
       "      <td>29.0</td>\n",
       "      <td>Philadelphia Flyers</td>\n",
       "      <td>Pittsburgh Penguins</td>\n",
       "      <td>right</td>\n",
       "    </tr>\n",
       "    <tr>\n",
       "      <th>1</th>\n",
       "      <td>1</td>\n",
       "      <td>2020020001</td>\n",
       "      <td>Pittsburgh Penguins</td>\n",
       "      <td>Shot</td>\n",
       "      <td>Wrist Shot</td>\n",
       "      <td>49.0</td>\n",
       "      <td>-25.0</td>\n",
       "      <td>Philadelphia Flyers</td>\n",
       "      <td>Pittsburgh Penguins</td>\n",
       "      <td>right</td>\n",
       "    </tr>\n",
       "    <tr>\n",
       "      <th>2</th>\n",
       "      <td>1</td>\n",
       "      <td>2020020001</td>\n",
       "      <td>Philadelphia Flyers</td>\n",
       "      <td>Shot</td>\n",
       "      <td>Backhand</td>\n",
       "      <td>-52.0</td>\n",
       "      <td>-31.0</td>\n",
       "      <td>Philadelphia Flyers</td>\n",
       "      <td>Pittsburgh Penguins</td>\n",
       "      <td>right</td>\n",
       "    </tr>\n",
       "    <tr>\n",
       "      <th>3</th>\n",
       "      <td>1</td>\n",
       "      <td>2020020001</td>\n",
       "      <td>Pittsburgh Penguins</td>\n",
       "      <td>Shot</td>\n",
       "      <td>Snap Shot</td>\n",
       "      <td>43.0</td>\n",
       "      <td>39.0</td>\n",
       "      <td>Philadelphia Flyers</td>\n",
       "      <td>Pittsburgh Penguins</td>\n",
       "      <td>right</td>\n",
       "    </tr>\n",
       "    <tr>\n",
       "      <th>4</th>\n",
       "      <td>1</td>\n",
       "      <td>2020020001</td>\n",
       "      <td>Philadelphia Flyers</td>\n",
       "      <td>Shot</td>\n",
       "      <td>Slap Shot</td>\n",
       "      <td>-53.0</td>\n",
       "      <td>8.0</td>\n",
       "      <td>Philadelphia Flyers</td>\n",
       "      <td>Pittsburgh Penguins</td>\n",
       "      <td>right</td>\n",
       "    </tr>\n",
       "  </tbody>\n",
       "</table>\n",
       "</div>"
      ],
      "text/plain": [
       "   period num     game ID            team name shot or goal   shot type  \\\n",
       "0           1  2020020001  Philadelphia Flyers         Shot  Wrist Shot   \n",
       "1           1  2020020001  Pittsburgh Penguins         Shot  Wrist Shot   \n",
       "2           1  2020020001  Philadelphia Flyers         Shot    Backhand   \n",
       "3           1  2020020001  Pittsburgh Penguins         Shot   Snap Shot   \n",
       "4           1  2020020001  Philadelphia Flyers         Shot   Slap Shot   \n",
       "\n",
       "   coordinates x  coordinates y            home name            away name  \\\n",
       "0          -74.0           29.0  Philadelphia Flyers  Pittsburgh Penguins   \n",
       "1           49.0          -25.0  Philadelphia Flyers  Pittsburgh Penguins   \n",
       "2          -52.0          -31.0  Philadelphia Flyers  Pittsburgh Penguins   \n",
       "3           43.0           39.0  Philadelphia Flyers  Pittsburgh Penguins   \n",
       "4          -53.0            8.0  Philadelphia Flyers  Pittsburgh Penguins   \n",
       "\n",
       "  rinkSide  \n",
       "0    right  \n",
       "1    right  \n",
       "2    right  \n",
       "3    right  \n",
       "4    right  "
      ]
     },
     "execution_count": 51,
     "metadata": {},
     "output_type": "execute_result"
    }
   ],
   "source": [
    "s.head()"
   ]
  },
  {
   "cell_type": "code",
   "execution_count": 52,
   "id": "abfe5323-8088-42bd-9a92-e0fce057f0a5",
   "metadata": {},
   "outputs": [
    {
     "data": {
      "text/plain": [
       "array(['Wrist Shot', 'Backhand', 'Snap Shot', 'Slap Shot', 'Tip-In',\n",
       "       'Wrap-around', 'Deflected', nan], dtype=object)"
      ]
     },
     "execution_count": 52,
     "metadata": {},
     "output_type": "execute_result"
    }
   ],
   "source": [
    "# for each shot type: \n",
    "# get count of shots + goals in each bin\n",
    "# get count of goals in those bins \n",
    "# divide to get the percentage \n",
    "\n",
    "shot_types = s['shot type'].unique()\n",
    "shot_types"
   ]
  },
  {
   "cell_type": "code",
   "execution_count": 53,
   "id": "ab76b5ee-ecec-48df-bf37-7f0e2b0d54ac",
   "metadata": {},
   "outputs": [],
   "source": [
    "distance = get_shot_distance(s)"
   ]
  },
  {
   "cell_type": "code",
   "execution_count": 54,
   "id": "62e36294-a39c-42eb-be04-b6ff52d62034",
   "metadata": {},
   "outputs": [
    {
     "name": "stdout",
     "output_type": "stream",
     "text": [
      "50719\n",
      "50719\n"
     ]
    }
   ],
   "source": [
    "print(len(s)) \n",
    "print(len(distance)) "
   ]
  },
  {
   "cell_type": "code",
   "execution_count": 55,
   "id": "5a692238-8c2f-4a4a-8413-2d17af467e3b",
   "metadata": {},
   "outputs": [],
   "source": [
    "s.insert(len(s.columns), \"shot distance\", distance)"
   ]
  },
  {
   "cell_type": "code",
   "execution_count": 34,
   "id": "2a6ecc3e-9aef-456b-b4b1-63496caa3068",
   "metadata": {},
   "outputs": [
    {
     "data": {
      "text/html": [
       "<div>\n",
       "<style scoped>\n",
       "    .dataframe tbody tr th:only-of-type {\n",
       "        vertical-align: middle;\n",
       "    }\n",
       "\n",
       "    .dataframe tbody tr th {\n",
       "        vertical-align: top;\n",
       "    }\n",
       "\n",
       "    .dataframe thead th {\n",
       "        text-align: right;\n",
       "    }\n",
       "</style>\n",
       "<table border=\"1\" class=\"dataframe\">\n",
       "  <thead>\n",
       "    <tr style=\"text-align: right;\">\n",
       "      <th></th>\n",
       "      <th>period num</th>\n",
       "      <th>game ID</th>\n",
       "      <th>team name</th>\n",
       "      <th>shot or goal</th>\n",
       "      <th>shot type</th>\n",
       "      <th>coordinates x</th>\n",
       "      <th>coordinates y</th>\n",
       "      <th>home name</th>\n",
       "      <th>away name</th>\n",
       "      <th>rinkSide</th>\n",
       "      <th>shot distance</th>\n",
       "    </tr>\n",
       "  </thead>\n",
       "  <tbody>\n",
       "    <tr>\n",
       "      <th>0</th>\n",
       "      <td>1</td>\n",
       "      <td>2020020001</td>\n",
       "      <td>Philadelphia Flyers</td>\n",
       "      <td>Shot</td>\n",
       "      <td>Wrist Shot</td>\n",
       "      <td>-74.0</td>\n",
       "      <td>29.0</td>\n",
       "      <td>Philadelphia Flyers</td>\n",
       "      <td>Pittsburgh Penguins</td>\n",
       "      <td>right</td>\n",
       "      <td>38.948684</td>\n",
       "    </tr>\n",
       "    <tr>\n",
       "      <th>1</th>\n",
       "      <td>1</td>\n",
       "      <td>2020020001</td>\n",
       "      <td>Pittsburgh Penguins</td>\n",
       "      <td>Shot</td>\n",
       "      <td>Wrist Shot</td>\n",
       "      <td>49.0</td>\n",
       "      <td>-25.0</td>\n",
       "      <td>Philadelphia Flyers</td>\n",
       "      <td>Pittsburgh Penguins</td>\n",
       "      <td>right</td>\n",
       "      <td>56.797887</td>\n",
       "    </tr>\n",
       "    <tr>\n",
       "      <th>2</th>\n",
       "      <td>1</td>\n",
       "      <td>2020020001</td>\n",
       "      <td>Philadelphia Flyers</td>\n",
       "      <td>Shot</td>\n",
       "      <td>Backhand</td>\n",
       "      <td>-52.0</td>\n",
       "      <td>-31.0</td>\n",
       "      <td>Philadelphia Flyers</td>\n",
       "      <td>Pittsburgh Penguins</td>\n",
       "      <td>right</td>\n",
       "      <td>57.140179</td>\n",
       "    </tr>\n",
       "    <tr>\n",
       "      <th>3</th>\n",
       "      <td>1</td>\n",
       "      <td>2020020001</td>\n",
       "      <td>Pittsburgh Penguins</td>\n",
       "      <td>Shot</td>\n",
       "      <td>Snap Shot</td>\n",
       "      <td>43.0</td>\n",
       "      <td>39.0</td>\n",
       "      <td>Philadelphia Flyers</td>\n",
       "      <td>Pittsburgh Penguins</td>\n",
       "      <td>right</td>\n",
       "      <td>69.065187</td>\n",
       "    </tr>\n",
       "    <tr>\n",
       "      <th>4</th>\n",
       "      <td>1</td>\n",
       "      <td>2020020001</td>\n",
       "      <td>Philadelphia Flyers</td>\n",
       "      <td>Shot</td>\n",
       "      <td>Slap Shot</td>\n",
       "      <td>-53.0</td>\n",
       "      <td>8.0</td>\n",
       "      <td>Philadelphia Flyers</td>\n",
       "      <td>Pittsburgh Penguins</td>\n",
       "      <td>right</td>\n",
       "      <td>47.675990</td>\n",
       "    </tr>\n",
       "  </tbody>\n",
       "</table>\n",
       "</div>"
      ],
      "text/plain": [
       "   period num     game ID            team name shot or goal   shot type  \\\n",
       "0           1  2020020001  Philadelphia Flyers         Shot  Wrist Shot   \n",
       "1           1  2020020001  Pittsburgh Penguins         Shot  Wrist Shot   \n",
       "2           1  2020020001  Philadelphia Flyers         Shot    Backhand   \n",
       "3           1  2020020001  Pittsburgh Penguins         Shot   Snap Shot   \n",
       "4           1  2020020001  Philadelphia Flyers         Shot   Slap Shot   \n",
       "\n",
       "   coordinates x  coordinates y            home name            away name  \\\n",
       "0          -74.0           29.0  Philadelphia Flyers  Pittsburgh Penguins   \n",
       "1           49.0          -25.0  Philadelphia Flyers  Pittsburgh Penguins   \n",
       "2          -52.0          -31.0  Philadelphia Flyers  Pittsburgh Penguins   \n",
       "3           43.0           39.0  Philadelphia Flyers  Pittsburgh Penguins   \n",
       "4          -53.0            8.0  Philadelphia Flyers  Pittsburgh Penguins   \n",
       "\n",
       "  rinkSide  shot distance  \n",
       "0    right      38.948684  \n",
       "1    right      56.797887  \n",
       "2    right      57.140179  \n",
       "3    right      69.065187  \n",
       "4    right      47.675990  "
      ]
     },
     "execution_count": 34,
     "metadata": {},
     "output_type": "execute_result"
    }
   ],
   "source": [
    "s.head()"
   ]
  },
  {
   "cell_type": "code",
   "execution_count": 128,
   "id": "45e1342a-e04e-4869-bfb3-c6f0996ea988",
   "metadata": {},
   "outputs": [
    {
     "data": {
      "image/png": "[encoded data removed]",
      "text/plain": [
       "<Figure size 432x288 with 1 Axes>"
      ]
     },
     "metadata": {
      "needs_background": "light"
     },
     "output_type": "display_data"
    }
   ],
   "source": [
    "shot_counts = []\n",
    "for shot in shot_types: \n",
    "    if shot in ['Wrist Shot', 'Backhand', 'Snap Shot', 'Slap Shot', 'Wrap-around']:  \n",
    "        mask = s['shot type'] == shot\n",
    "        counts, edges, plot = plt.hist(s[mask]['shot distance'], bins = np.linspace(0, 200, 101))\n",
    "        shot_counts.append(counts)"
   ]
  },
  {
   "cell_type": "code",
   "execution_count": 129,
   "id": "70e02d16-fbdf-472b-8a74-21b7e6d1fa27",
   "metadata": {},
   "outputs": [
    {
     "data": {
      "image/png": "[encoded data removed]",
      "text/plain": [
       "<Figure size 432x288 with 1 Axes>"
      ]
     },
     "metadata": {
      "needs_background": "light"
     },
     "output_type": "display_data"
    }
   ],
   "source": [
    "goal_counts = []\n",
    "for shot in shot_types: \n",
    "    if shot in ['Wrist Shot', 'Backhand', 'Snap Shot', 'Slap Shot', 'Wrap-around']:  \n",
    "        mask = s['shot type'] == shot \n",
    "        s1 = s[mask]\n",
    "        mask = s1['shot or goal'] == 'Goal'\n",
    "        counts, edges, plot = plt.hist(s1[mask]['shot distance'], bins = np.linspace(0, 200, 101))\n",
    "        goal_counts.append(counts)"
   ]
  },
  {
   "cell_type": "code",
   "execution_count": 130,
   "id": "5ed01674-728f-4f27-bf15-4d203b906534",
   "metadata": {},
   "outputs": [
    {
     "name": "stderr",
     "output_type": "stream",
     "text": [
      "C:\\Users\\pulki\\AppData\\Local\\Temp/ipykernel_3404/3568596318.py:1: RuntimeWarning: invalid value encountered in true_divide\n",
      "  goal_perc = np.divide(np.array(goal_counts),  np.array(shot_counts))\n"
     ]
    }
   ],
   "source": [
    "goal_perc = np.divide(np.array(goal_counts),  np.array(shot_counts))"
   ]
  },
  {
   "cell_type": "code",
   "execution_count": 131,
   "id": "a36ab51a-3148-444d-af64-5e2bd359dbae",
   "metadata": {},
   "outputs": [],
   "source": [
    "goal_perc = np.where(goal_perc == float(\"inf\"), 0, goal_perc)"
   ]
  },
  {
   "cell_type": "code",
   "execution_count": 133,
   "id": "04a29415-be7a-4c66-8a11-017fb24f9242",
   "metadata": {},
   "outputs": [
    {
     "data": {
      "text/plain": [
       "100"
      ]
     },
     "execution_count": 133,
     "metadata": {},
     "output_type": "execute_result"
    }
   ],
   "source": [
    "x = np.linspace(0, 200, 100)\n",
    "bins = np.convolve(x, np.ones(2), 'same') / 2\n",
    "len(bins) "
   ]
  },
  {
   "cell_type": "code",
   "execution_count": 141,
   "id": "21ba6aa2-2516-4b23-ad59-1e7376e19115",
   "metadata": {},
   "outputs": [
    {
     "data": {
      "image/png": "[encoded data removed]",
      "text/plain": [
       "<Figure size 1152x648 with 1 Axes>"
      ]
     },
     "metadata": {
      "needs_background": "light"
     },
     "output_type": "display_data"
    }
   ],
   "source": [
    "st = ['Wrist Shot', 'Backhand', 'Snap Shot', 'Slap Shot', 'Wrap-around']\n",
    "with plt.style.context('seaborn-talk'):\n",
    "    plt.figure(figsize = (16, 9)) \n",
    "    plt.xlabel(\"Shot Distance\") \n",
    "    plt.ylabel(\"Goal Percentage\") \n",
    "    plt.title(\"Comparing Goal Percentage vs Distance for various shot types\") \n",
    "    \n",
    "    for i in range(len(goal_perc)): \n",
    "        plt.plot(bins, goal_perc[i], label = st[i]) \n",
    "    \n",
    "    plt.legend(loc = 'upper left')"
   ]
  },
  {
   "cell_type": "markdown",
   "id": "a8bb7ff6-b3fa-4832-8a1c-0455c454517d",
   "metadata": {},
   "source": [
    "### Discussion \n",
    "\n",
    "**Methodology** \n",
    "\n",
    "To compare the _Goal Percentage vs Shot Distance_ for different type of shots _(wrist shot, backhand, snap shot, slap shot, wrap around)_ we first divide the distance from goal into 100 bins and get the the count of total shots (shot or goal) in that bin using the `matplotlib.pyplot.hist()` function. Then simililarly,  for each bin, we get the counts of shots that were goals. To get the goal percentage for each bin, we divide the number of goals with the total number of shots for that bin. \n",
    "\n",
    "Next, for each shot type, we plot the goal-percentage with the shot-distance. The values of shot-distance are obtained by taking the _center_ value of each bin _{(bin start + bin end) / 2)}_\n",
    "\n",
    "**Observations**\n",
    "\n",
    "We notice that different type of shots have different level of efficacy depending on the distance from the goal. \n",
    "\n",
    "For **short range** [0-25] we notice, that _wrist_ and _slap_ shots are the most lethal. However,  their efficacy drops for the distance range: [30-125] but then increases again for distances greater than 125 units. \n",
    "\n",
    "For **mid range** [30-110], _snap shot_ and _backhand_ seem to be the most lethal type of shots. \n",
    "\n",
    "For **long range** [120-200] _backhand_, _snap shot_, and _slap shot_ seem to be the most effective type of shots"
   ]
  },
  {
   "cell_type": "code",
   "execution_count": null,
   "id": "06da8b87-3609-4f10-8157-23a68d0f0296",
   "metadata": {},
   "outputs": [],
   "source": []
  },
  {
   "cell_type": "code",
   "execution_count": null,
   "id": "cedda6b9-5cbd-4187-b208-da4c4bfc7e3c",
   "metadata": {},
   "outputs": [],
   "source": []
  }
 ],
 "metadata": {
  "kernelspec": {
   "display_name": "ift6758-conda-env",
   "language": "python",
   "name": "ift6758-conda-env"
  },
  "language_info": {
   "codemirror_mode": {
    "name": "ipython",
    "version": 3
   },
   "file_extension": ".py",
   "mimetype": "text/x-python",
   "name": "python",
   "nbconvert_exporter": "python",
   "pygments_lexer": "ipython3",
   "version": "3.9.7"
  }
 },
 "nbformat": 4,
 "nbformat_minor": 5
}
