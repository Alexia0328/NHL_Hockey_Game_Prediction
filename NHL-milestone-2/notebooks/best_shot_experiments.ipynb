{
 "cells": [
  {
   "cell_type": "code",
   "execution_count": 11,
   "metadata": {},
   "outputs": [],
   "source": [
    "import numpy as np \n",
    "import pandas as pd\n",
    "import matplotlib.pyplot as plt\n",
    "import seaborn as sns"
   ]
  },
  {
   "cell_type": "markdown",
   "metadata": {},
   "source": [
    "# Imbalance in labels"
   ]
  },
  {
   "cell_type": "code",
   "execution_count": 2,
   "metadata": {},
   "outputs": [],
   "source": [
    "train = pd.read_csv(\"../data/ms2Q4_STD.csv\")"
   ]
  },
  {
   "cell_type": "code",
   "execution_count": 19,
   "metadata": {},
   "outputs": [],
   "source": [
    "labels = train[['Is goal']]\n",
    "num_shots = np.count_nonzero(labels == 0)\n",
    "num_goals = np.count_nonzero(labels == 1)"
   ]
  },
  {
   "cell_type": "code",
   "execution_count": 23,
   "metadata": {},
   "outputs": [
    {
     "data": {
      "image/png": "[encoded data removed]",
      "text/plain": [
       "<Figure size 720x504 with 1 Axes>"
      ]
     },
     "metadata": {
      "needs_background": "light"
     },
     "output_type": "display_data"
    }
   ],
   "source": [
    "plt.figure(figsize = (10, 7))\n",
    "plt.bar(['Shots', 'Goals'], [num_shots, num_goals], label = [f'Shot {num_shots}', f'Goal {num_goals}'], color = ['red', 'green'] )\n",
    "plt.title(\"Number of Shots vs Goals\")\n",
    "plt.ylabel(\"Frequency\")\n",
    "plt.show()"
   ]
  },
  {
   "cell_type": "markdown",
   "metadata": {},
   "source": [
    "We observe that out training dataset is hugely imbalanced where we the ratio is approximately:  `shots: goals :: 10: 1`\n",
    "\n",
    "The effects of this imbalance are observed in both training and testing (validation) phases where we observe that the recall for `label == 1`: _goal_  is extremely low although, we are getting a decent accuracy of over 90% for almost all our classifiers. Our hypothesis is that the classifier is just \"getting by\" learning the representation for _shos_ `label == 0` and `goals` are getting neglected.\n",
    "\n",
    "<insert picture of classification report for xg_boost train>\n",
    "<insert picture of classification repor for xg_boost validation>"
   ]
  },
  {
   "cell_type": "markdown",
   "metadata": {},
   "source": []
  },
  {
   "cell_type": "markdown",
   "metadata": {},
   "source": []
  }
 ],
 "metadata": {
  "interpreter": {
   "hash": "5002cefc9ae8d951c5a6ada36b5d68f5e5702c26e880d36b40bb74a354a916f9"
  },
  "kernelspec": {
   "display_name": "Python 3.9.7 64-bit ('ift6758-conda-env': conda)",
   "language": "python",
   "name": "python3"
  },
  "language_info": {
   "codemirror_mode": {
    "name": "ipython",
    "version": 3
   },
   "file_extension": ".py",
   "mimetype": "text/x-python",
   "name": "python",
   "nbconvert_exporter": "python",
   "pygments_lexer": "ipython3",
   "version": "3.9.7"
  },
  "orig_nbformat": 4
 },
 "nbformat": 4,
 "nbformat_minor": 2
}
