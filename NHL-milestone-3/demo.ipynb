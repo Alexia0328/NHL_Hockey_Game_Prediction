{
 "cells": [
  {
   "cell_type": "code",
   "execution_count": 1,
   "metadata": {
    "id": "laWZLLQcVr1t"
   },
   "outputs": [],
   "source": [
    "%load_ext autoreload\n",
    "%autoreload 2"
   ]
  },
  {
   "cell_type": "code",
   "execution_count": null,
   "metadata": {
    "id": "xGxFFO7YVi6D"
   },
   "outputs": [],
   "source": [
    "import ipywidgets as widgets\n",
    "from ipywidgets import interact, interact_manual\n",
    "from IPython.display import display\t\n",
    "from IPython.display import display, clear_output\n",
    "import pandas as pd\n",
    "\n",
    "import ift6758.client.serving_client as sc\n",
    "import ift6758.client.game_client as gc\n",
    "\n",
    "g_client = gc.GameClient(ip = 'serving_app', port = 3000)\n",
    "client = sc.ServingClient(ip ='serving_app', port = 3000)\n",
    "client.logs()"
   ]
  },
  {
   "cell_type": "code",
   "execution_count": 20,
   "metadata": {
    "id": "87r8mysHWYmT",
    "scrolled": false
   },
   "outputs": [
    {
     "data": {
      "application/vnd.jupyter.widget-view+json": {
       "model_id": "124bd30309aa426294ede1059276b39f",
       "version_major": 2,
       "version_minor": 0
      },
      "text/plain": [
       "interactive(children=(Dropdown(description='workspace', options=('maskedviper',), value='maskedviper'), Dropdo…"
      ]
     },
     "metadata": {},
     "output_type": "display_data"
    },
    {
     "data": {
      "application/vnd.jupyter.widget-view+json": {
       "model_id": "cd0b4e72f3a64fd0ae97cc98dba46c9a",
       "version_major": 2,
       "version_minor": 0
      },
      "text/plain": [
       "Text(value='2016020001', description='GameID')"
      ]
     },
     "metadata": {},
     "output_type": "display_data"
    },
    {
     "data": {
      "application/vnd.jupyter.widget-view+json": {
       "model_id": "a26eda9b77874d4488ebe6305ab2a225",
       "version_major": 2,
       "version_minor": 0
      },
      "text/plain": [
       "Button(description='Ping Game', style=ButtonStyle())"
      ]
     },
     "metadata": {},
     "output_type": "display_data"
    },
    {
     "data": {
      "application/vnd.jupyter.widget-view+json": {
       "model_id": "b84d0525f3b0472a91f512d8a803cf79",
       "version_major": 2,
       "version_minor": 0
      },
      "text/plain": [
       "Output()"
      ]
     },
     "metadata": {},
     "output_type": "display_data"
    }
   ],
   "source": [
    "class AE:\n",
    "  def __init__(self):\n",
    "    self.df = pd.DataFrame(columns=['gameID','home name','away name','team name','period time','period num','coordinates x','coordinates y','Distance from net','Angle from net','shot type','Time from the last event','last event type','last coordinates x','last coordinates y','Distance from the last event','Rebound','Change in shot angle','Speed','Is goal','Goal probability','home Goal','away Goal'])\n",
    "  \n",
    "  def add_gameID(self, gameID):\n",
    "    self.df.iloc[self.df.shape[0]-1,0] = str(gameID)\n",
    "  \n",
    "  def find_gameID(self, gameID):\n",
    "    return self.df[self.df['gameID'] == gameID]\n",
    "  \n",
    "  def gameID_list(self, gameID):\n",
    "    return list(self.df.drop_duplicates()['gameID'])\n",
    "\n",
    "  def gameID_exist(self, gameID):\n",
    "    id_list = AE.gameID_list(self, gameID)\n",
    "    return gameID in id_list\n",
    "  def init_game_ID(self):\n",
    "    self.df = pd.DataFrame(columns=['gameID','home name','away name','team name','period time','period num','coordinates x','coordinates y','Distance from net','Angle from net','shot type','Time from the last event','last event type','last coordinates x','last coordinates y','Distance from the last event','Rebound','Change in shot angle','Speed','Is goal','Goal probability','home Goal','away Goal']) \n",
    "all_events_df = AE()\n",
    "\n",
    "\n",
    "button = widgets.Button(description=\"Ping Game\")\n",
    "output = widgets.Output()\n",
    "temp_model = ''\n",
    "def show(workspace, model, version):\n",
    "  client.download_registry_model(workspace, model, version)\n",
    "  global temp_model\n",
    "  if temp_model != model:\n",
    "    all_events_df.init_game_ID()\n",
    "  temp_model = model\n",
    "\n",
    "interact(show, workspace = ['maskedviper'], model = ['xgb', 'random_forest'], version = ['1.0.0']);\n",
    "\n",
    "text = widgets.Text(\n",
    "    value='2016020001',\n",
    "    description='GameID',\n",
    "    disabled=False\n",
    ")\n",
    "display(text)\n",
    "\n",
    "def callback(gameID):\n",
    "  if all_events_df.gameID_exist(gameID.value):\n",
    "    idx = all_events_df.df[all_events_df.df['gameID'] == gameID.value].shape[0]\n",
    "  else:\n",
    "    idx = 0\n",
    "  event,_,past_events = g_client.ping_game(gameID.value, idx, all_events_df.df)\n",
    "  #event,_,past_events = ping_game(gameID.value, idx, all_events_df.df)\n",
    "  if event.shape[0] == 0:\n",
    "    event = past_events.loc[past_events.shape[0]-1]\n",
    "    left_time, period_num = g_client.get_num_and_left_time(event)\n",
    "    home, away = g_client.get_team_name(event)\n",
    "    hp, ap = g_client.each_goal_prob(event)\n",
    "    line = '|' + '-' * 71 + '|'\n",
    "    team_headers = '|' + 'Home Team'.center(34) + ' | ' + 'Away Team'.center(34) + '|'\n",
    "    period_line = '|' + ('Period:' + str(int(period_num)) + '  --  ' +  str(left_time)).center(71) + '|'\n",
    "    team_names = '|' + home.center(34) + ' | ' + away.center(34) + '|'\n",
    "    expected_goals = '|' + str(hp).center(34) + ' | ' + str(ap).center(34) + '|'\n",
    "\n",
    "    print(line)\n",
    "    print(period_line)\n",
    "    print(line)\n",
    "    print(team_headers)\n",
    "    print(line)\n",
    "    print(team_names)\n",
    "    print(line)\n",
    "    print(expected_goals)\n",
    "    print(line)\n",
    "    display_df = all_events_df.df[all_events_df.df['gameID'] == gameID.value]\n",
    "    display(display_df.reset_index(drop=True).iloc[:,:-2])\n",
    "    return \"\"\n",
    "  #all_events_df.add_gameID(gameID.value)\n",
    "\n",
    "  left_time, period_num = g_client.get_num_and_left_time(event)\n",
    "  home, away = g_client.get_team_name(event)\n",
    "  hp, ap = g_client.each_goal_prob(event)\n",
    "  line = '|' + '-' * 71 + '|'\n",
    "  team_headers = '|' + 'Home Team'.center(34) + ' | ' + 'Away Team'.center(34) + '|'\n",
    "  period_line = '|' + ('Period:' + str(int(period_num)) + '  --  ' +  str(left_time)).center(71) + '|'\n",
    "  team_names = '|' + home.center(34) + ' | ' + away.center(34) + '|'\n",
    "  expected_goals = '|' + str(hp).center(34) + ' | ' + str(ap).center(34) + '|'\n",
    "  print(line)\n",
    "  print(period_line)\n",
    "  print(line) \n",
    "  print(team_headers)\n",
    "  print(line)\n",
    "  print(team_names)\n",
    "  print(line)\n",
    "  print(expected_goals)\n",
    "  print(line)\n",
    "  display_df = all_events_df.df[all_events_df.df['gameID'] == gameID.value]\n",
    "  display(display_df.reset_index(drop=True).iloc[:,:-2])\n",
    "\n",
    "text.on_submit(callback)\n",
    "\n",
    "\n",
    "#index = 0\n",
    "display(button, output)\n",
    "def on_button_clicked(b):\n",
    "  with output:\n",
    "    clear_output()\n",
    "    callback(gameID=text)\n",
    "button.on_click(on_button_clicked)"
   ]
  }
 ],
 "metadata": {
  "colab": {
   "collapsed_sections": [],
   "name": "MileStone3_dashboard.ipynb",
   "provenance": []
  },
  "kernelspec": {
   "display_name": "Python 3",
   "language": "python",
   "name": "python3"
  },
  "language_info": {
   "codemirror_mode": {
    "name": "ipython",
    "version": 3
   },
   "file_extension": ".py",
   "mimetype": "text/x-python",
   "name": "python",
   "nbconvert_exporter": "python",
   "pygments_lexer": "ipython3",
   "version": "3.8.5"
  }
 },
 "nbformat": 4,
 "nbformat_minor": 1
}
